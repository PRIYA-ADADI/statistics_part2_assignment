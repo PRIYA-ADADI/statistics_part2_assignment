{
  "nbformat": 4,
  "nbformat_minor": 0,
  "metadata": {
    "colab": {
      "provenance": []
    },
    "kernelspec": {
      "name": "python3",
      "display_name": "Python 3"
    },
    "language_info": {
      "name": "python"
    }
  },
  "cells": [
    {
      "cell_type": "markdown",
      "source": [
        "\n",
        "1. **What is hypothesis testing in statistics?**  \n",
        "Hypothesis testing is a systematic method used by statisticians to make decisions about a population parameter based on sample data. It involves formulating two competing hypotheses: the null hypothesis (H₀), which represents no effect or status quo, and the alternative hypothesis (H₁ or Ha), which represents the effect or difference we suspect exists. Using sample data, a test statistic is calculated, and its corresponding P-value determines whether the evidence supports rejecting H₀ in favor of H₁. This process helps researchers make informed conclusions about populations based on limited data, with controlled probabilities of making errors.\n",
        "\n",
        "2. **What is the null hypothesis, and how does it differ from the alternative hypothesis?**  \n",
        "The null hypothesis (H₀) is a statement asserting that there is no effect, no difference, or no association between variables. It serves as the default assumption that any observed effect is due to random chance. The alternative hypothesis (H₁ or Ha) posits that there is a real effect, a difference, or an association. In hypothesis testing, the goal is to gather evidence from data to decide whether to reject H₀ in favor of H₁. The null is assumed true until there's sufficient evidence to reject it, whereas the alternative represents the research question or the hypothesis being tested.\n",
        "\n",
        "3. **What is the significance level in hypothesis testing, and why is it important?**  \n",
        "The significance level (α) is a pre-determined threshold, typically set at 0.05, which defines the maximum acceptable probability of making a Type I error—that is, rejecting H₀ when it is actually true. It essentially measures how strong the evidence must be before we reject the null hypothesis. Choosing α influences the sensitivity of the test: a lower α (e.g., 0.01) makes the test more conservative, reducing false positives, while a higher α (e.g., 0.10) increases the chance of detecting an effect but also raises the risk of false positives. Setting α helps standardize decision-making and control error rates.\n",
        "\n",
        "4. **What does a P-value represent in hypothesis testing?**  \n",
        "A P-value indicates the probability of observing a test statistic as extreme or more extreme than the one calculated from sample data, assuming that the null hypothesis is true. It quantifies the evidence against H₀: a small P-value suggests that such an extreme result would be unlikely if H₀ were true, thus providing grounds to reject H₀. Conversely, a large P-value indicates that the data are consistent with H₀, and there isn't enough evidence to reject it. P-values are a continuous measure of evidence, not a strict cutoff, but are often compared to α to make decisions.\n",
        "\n",
        "5. **How do you interpret the P-value in hypothesis testing?**  \n",
        "- If the P-value is less than or equal to the chosen significance level (e.g., 0.05), we reject H₀, concluding that the data provide statistically significant evidence in favor of H₁.  \n",
        "- If the P-value is greater than α, we fail to reject H₀, meaning the data do not provide sufficient evidence to support a claim of an effect or difference.  \n",
        "It is important to note that a P-value does not measure the size of an effect or its practical importance; it only assesses the strength of evidence against H₀.\n",
        "\n",
        "6. **What are Type I and Type II errors in hypothesis testing?**  \n",
        "- **Type I error (α):** This occurs when we wrongly reject the null hypothesis when it is actually true. It is a false positive. For example, concluding a new drug is effective when it actually isn't. The significance level (α) controls the maximum probability of making this error.  \n",
        "- **Type II error (β):** This happens when we fail to reject H₀ when the alternative hypothesis is true—a false negative. For instance, missing a real effect due to insufficient sample size or low test power. Balancing these errors is essential in designing studies.\n",
        "\n",
        "7. **What is the difference between a one-tailed and a two-tailed test in hypothesis testing?**  \n",
        "- **One-tailed test:** Tests for an effect in a specific direction, such as whether a new treatment is better than the current standard (e.g., mean > a certain value). The critical region is on one side of the distribution. It has greater power to detect an effect in that direction but cannot detect effects in the opposite direction.  \n",
        "- **Two-tailed test:** Tests for any difference, regardless of direction (e.g., mean ≠ a certain value). The critical regions are on both tails of the distribution. It is more conservative and appropriate when the effect's direction is not specified beforehand.\n",
        "\n",
        "8. **What is the Z-test, and when is it used in hypothesis testing?**  \n",
        "The Z-test is a statistical test used to determine whether there is a significant difference between a sample statistic and a hypothesized population parameter when the population standard deviation (σ) is known and the sample size is large (typically n ≥ 30). It relies on the standard normal distribution and is appropriate when the data are approximately normally distributed or the sample size is sufficiently large for the Central Limit Theorem to apply.\n",
        "\n",
        "9. **How do you calculate the Z-score, and what does it represent in hypothesis testing?**  \n",
        "The Z-score is calculated as:  \n",
        "\\[ Z = \\frac{\\bar{x} - \\mu_0}{\\sigma / \\sqrt{n}} \\]  \n",
        "where:  \n",
        "- \\(\\bar{x}\\) = sample mean  \n",
        "- \\(\\mu_0\\) = hypothesized population mean under H₀  \n",
        "- \\(\\sigma\\) = known population standard deviation  \n",
        "- \\(n\\) = sample size  \n",
        "It represents how many standard errors the sample mean is from the hypothesized population mean. A higher absolute Z indicates stronger evidence against H₀.\n",
        "\n",
        "10. **What is the T-distribution, and when should it be used instead of the normal distribution?**  \n",
        "The T-distribution is similar to the normal distribution but has heavier tails, accounting for additional uncertainty when estimating the population standard deviation from a small sample. It is used when the sample size is small (n < 30) and the population standard deviation is unknown, which is common in practical situations. The shape of the T-distribution depends on degrees of freedom (n - 1).\n",
        "\n",
        "11. **What is the difference between a Z-test and a T-test?**  \n",
        "- **Z-test:** Used when the population standard deviation is known, and the sample size is large, allowing the use of the standard normal distribution.  \n",
        "- **T-test:** Used when the population standard deviation is unknown, especially with small samples, requiring the use of the Student's t-distribution. It estimates the standard error from the sample data, leading to wider confidence intervals and more conservative results.\n",
        "\n",
        "12. **What is the T-test, and how is it used in hypothesis testing?**  \n",
        "The T-test compares a sample mean to a known value (one-sample T-test) or compares means between two groups (independent samples T-test or paired samples T-test). It calculates a t-statistic based on the sample data and degrees of freedom, then compares it to critical values from the t-distribution to determine if differences are statistically significant.\n",
        "\n",
        "13. **What is the relationship between Z-test and T-test in hypothesis testing?**  \n",
        "The Z-test is a special case of the T-test, used when the population standard deviation is known and the sample size is large. As sample size increases, the T-distribution approaches the standard normal (Z) distribution. For small samples with unknown σ, the T-test provides more accurate results because it accounts for additional uncertainty.\n",
        "\n",
        "14. **What is a confidence interval, and how is it used to interpret statistical results?**  \n",
        "A confidence interval (CI) provides a range of plausible values for a population parameter (e.g., mean, proportion) based on sample data. For example, a 95% CI indicates that, over many repetitions of the sampling process, approximately 95% of such intervals will contain the true parameter. It offers a measure of estimation precision and helps in decision-making by understanding the range within which the true value likely falls.\n",
        "\n",
        "15. **What is the margin of error, and how does it affect the confidence interval?**  \n",
        "The margin of error (E) quantifies the maximum expected difference between the sample estimate and the true parameter at a given confidence level. It is influenced by variability in the data, sample size, and confidence level. A larger margin leads to wider confidence intervals, indicating less precision; a smaller margin indicates more precise estimates.\n",
        "\n",
        "16. **How is Bayes' Theorem used in statistics, and what is its significance?**  \n",
        "Bayes' Theorem provides a mathematical framework for updating prior beliefs with new evidence to compute posterior probabilities. It is expressed as:  \n",
        "\\[ P(A|B) = \\frac{P(B|A) \\times P(A)}{P(B)} \\]  \n",
        "In statistics, it underpins Bayesian inference, allowing practitioners to incorporate prior knowledge and continuously revise probabilities as new data become available. It is fundamental in fields like machine learning, diagnostics, and decision analysis.\n",
        "\n",
        "17. **What is the Chi-square distribution, and when is it used?**  \n",
        "The Chi-square distribution is a family of distributions used to analyze categorical data. It arises from the sum of squared independent standard normal variables. It is used in tests for goodness-of-fit (comparing observed vs. expected frequencies), tests of independence in contingency tables, and variance testing.\n",
        "\n",
        "18. **What is the Chi-square goodness of fit test, and how is it applied?**  \n",
        "This test assesses whether observed categorical data match an expected distribution. It involves calculating the Chi-square statistic:  \n",
        "\\[ \\chi^2 = \\sum \\frac{(O_i - E_i)^2}{E_i} \\]  \n",
        "where \\(O_i\\) = observed frequency, \\(E_i\\) = expected frequency for each category. The calculated statistic is compared to the critical value from the Chi-square distribution to determine if the data fit the hypothesized distribution.\n",
        "\n",
        "19. **What is the F-distribution, and when is it used in hypothesis testing?**  \n",
        "The F-distribution is a ratio of two scaled Chi-square distributions, used primarily in analysis of variance (ANOVA). It models the distribution of the ratio of variances and is used to test whether group variances or means differ significantly. It is characterized by two degrees of freedom parameters: numerator (between-group variability) and denominator (within-group variability).\n",
        "\n",
        "20. **What is an ANOVA test, and what are its assumptions?**  \n",
        "ANOVA (Analysis of Variance) compares means across three or more groups to determine if at least one group mean differs significantly from the others. Its main assumptions are:  \n",
        "- Independence of observations  \n",
        "- Normally distributed residuals within groups  \n",
        "- Homogeneity of variances across groups (equal variances)  \n",
        "Violations can affect the validity of the test, so diagnostics are often performed.\n",
        "\n",
        "21. **What are the different types of ANOVA tests?**  \n",
        "- **One-way ANOVA:** Tests differences among groups based on a single independent variable or factor.  \n",
        "- **Two-way ANOVA:** Examines the effects of two factors simultaneously, including their interaction.  \n",
        "- **Repeated measures ANOVA:** Used when the same subjects are measured under different conditions or over time, accounting for within-subject variability.\n",
        "\n",
        "22. **What is the F-test, and how does it relate to hypothesis testing?**  \n",
        "The F-test compares variances between groups or models to determine if they are significantly different. In ANOVA, the F-statistic assesses whether the variation between group means exceeds what would be expected due to random variation alone. A significant F indicates that at least one group mean differs, leading to rejection of the null hypothesis of equal means.\n"
      ],
      "metadata": {
        "id": "AeECDLGlbobk"
      }
    },
    {
      "cell_type": "code",
      "source": [
        "# Question 1: Write a Python program to generate a random variable and display its value\n",
        "import numpy as np\n",
        "\n",
        "random_value = np.random.rand()\n",
        "print(\"Random variable from uniform distribution:\", random_value)"
      ],
      "metadata": {
        "colab": {
          "base_uri": "https://localhost:8080/"
        },
        "id": "ROPrfeSYbvAZ",
        "outputId": "00bbf022-6f90-447c-a4b0-c6c2deb34e7c"
      },
      "execution_count": 1,
      "outputs": [
        {
          "output_type": "stream",
          "name": "stdout",
          "text": [
            "Random variable from uniform distribution: 0.11668285500290654\n"
          ]
        }
      ]
    },
    {
      "cell_type": "code",
      "source": [
        "# Question 2: Write a Python program to calculate the mean of a list of numbers\n",
        "numbers = [10, 20, 30, 40, 50]\n",
        "mean_value = sum(numbers) / len(numbers)\n",
        "print(\"Mean of the list:\", mean_value)"
      ],
      "metadata": {
        "colab": {
          "base_uri": "https://localhost:8080/"
        },
        "id": "cze9lF1_ca3X",
        "outputId": "29f410bb-b0e3-40b4-eaf2-2f282148d74f"
      },
      "execution_count": 2,
      "outputs": [
        {
          "output_type": "stream",
          "name": "stdout",
          "text": [
            "Mean of the list: 30.0\n"
          ]
        }
      ]
    },
    {
      "cell_type": "code",
      "source": [
        "# Question 3: Write a Python program to find the maximum and minimum in a list\n",
        "numbers = [15, 22, 8, 19, 31, 7]\n",
        "max_value = max(numbers)\n",
        "min_value = min(numbers)\n",
        "print(\"Maximum:\", max_value)\n",
        "print(\"Minimum:\", min_value)"
      ],
      "metadata": {
        "colab": {
          "base_uri": "https://localhost:8080/"
        },
        "id": "Og4NZocFca7h",
        "outputId": "586679ff-00af-4c4c-cf29-88a69272bf0c"
      },
      "execution_count": 3,
      "outputs": [
        {
          "output_type": "stream",
          "name": "stdout",
          "text": [
            "Maximum: 31\n",
            "Minimum: 7\n"
          ]
        }
      ]
    },
    {
      "cell_type": "code",
      "source": [
        "# Question 4: Write a Python program to calculate the factorial of a number\n",
        "def factorial(n):\n",
        "    return 1 if n == 0 else n * factorial(n - 1)\n",
        "\n",
        "num = 5\n",
        "print(f\"Factorial of {num} is {factorial(num)}\")"
      ],
      "metadata": {
        "colab": {
          "base_uri": "https://localhost:8080/"
        },
        "id": "7im5NuFQca-1",
        "outputId": "73004aef-1c2e-4237-8be9-9d445e1b0c9d"
      },
      "execution_count": 4,
      "outputs": [
        {
          "output_type": "stream",
          "name": "stdout",
          "text": [
            "Factorial of 5 is 120\n"
          ]
        }
      ]
    },
    {
      "cell_type": "code",
      "source": [
        "# Question 5: Write a Python program to check if a number is prime\n",
        "def is_prime(n):\n",
        "    if n <= 1:\n",
        "        return False\n",
        "    for i in range(2, int(n ** 0.5) + 1):\n",
        "        if n % i == 0:\n",
        "            return False\n",
        "    return True\n",
        "\n",
        "number = 29\n",
        "print(f\"{number} is prime: {is_prime(number)}\")"
      ],
      "metadata": {
        "colab": {
          "base_uri": "https://localhost:8080/"
        },
        "id": "CEWp_ST2cbCi",
        "outputId": "c33c287b-533c-44d4-8ca2-3d41efec80eb"
      },
      "execution_count": 5,
      "outputs": [
        {
          "output_type": "stream",
          "name": "stdout",
          "text": [
            "29 is prime: True\n"
          ]
        }
      ]
    },
    {
      "cell_type": "code",
      "source": [
        "# Question 6: Write a Python program to generate Fibonacci sequence up to n terms\n",
        "n_terms = 10\n",
        "a, b = 0, 1\n",
        "fib_sequence = []\n",
        "\n",
        "for _ in range(n_terms):\n",
        "    fib_sequence.append(a)\n",
        "    a, b = b, a + b\n",
        "\n",
        "print(\"Fibonacci sequence:\", fib_sequence)"
      ],
      "metadata": {
        "colab": {
          "base_uri": "https://localhost:8080/"
        },
        "id": "spJlHbvrcbF_",
        "outputId": "fc1865aa-b893-4846-f38e-56515aeb9998"
      },
      "execution_count": 6,
      "outputs": [
        {
          "output_type": "stream",
          "name": "stdout",
          "text": [
            "Fibonacci sequence: [0, 1, 1, 2, 3, 5, 8, 13, 21, 34]\n"
          ]
        }
      ]
    },
    {
      "cell_type": "code",
      "source": [
        "# Question 7: Write a Python program to calculate the sum of digits of a number\n",
        "num = 12345\n",
        "sum_digits = sum(int(digit) for digit in str(num))\n",
        "print(\"Sum of digits:\", sum_digits)"
      ],
      "metadata": {
        "colab": {
          "base_uri": "https://localhost:8080/"
        },
        "id": "cZ4tc42scbJc",
        "outputId": "acd8fc1a-5f2d-43ff-8192-976cac8108ad"
      },
      "execution_count": 7,
      "outputs": [
        {
          "output_type": "stream",
          "name": "stdout",
          "text": [
            "Sum of digits: 15\n"
          ]
        }
      ]
    },
    {
      "cell_type": "code",
      "source": [
        "# Question 8: Write a Python program to reverse a string\n",
        "original_string = \"Hello World\"\n",
        "reversed_string = original_string[::-1]\n",
        "print(\"Reversed string:\", reversed_string)"
      ],
      "metadata": {
        "colab": {
          "base_uri": "https://localhost:8080/"
        },
        "id": "vu8_LgPpcbM0",
        "outputId": "b7e36227-456a-438b-9ad6-00a73952008d"
      },
      "execution_count": 8,
      "outputs": [
        {
          "output_type": "stream",
          "name": "stdout",
          "text": [
            "Reversed string: dlroW olleH\n"
          ]
        }
      ]
    },
    {
      "cell_type": "code",
      "source": [
        "# Question 9: Write a Python program to check if a string is palindrome\n",
        "def is_palindrome(s):\n",
        "    return s == s[::-1]\n",
        "\n",
        "string = \"madam\"\n",
        "print(f\"'{string}' is palindrome: {is_palindrome(string)}\")"
      ],
      "metadata": {
        "colab": {
          "base_uri": "https://localhost:8080/"
        },
        "id": "Yh8cefWBcbQN",
        "outputId": "9da01769-9e34-46f7-aa0b-09f031661124"
      },
      "execution_count": 9,
      "outputs": [
        {
          "output_type": "stream",
          "name": "stdout",
          "text": [
            "'madam' is palindrome: True\n"
          ]
        }
      ]
    },
    {
      "cell_type": "code",
      "source": [
        "# Question 10: Write a Python program to find the factorial of a number using iterative method\n",
        "def factorial_iter(n):\n",
        "    result = 1\n",
        "    for i in range(2, n + 1):\n",
        "        result *= i\n",
        "    return result\n",
        "\n",
        "num = 6\n",
        "print(f\"Factorial of {num} using iterative method is {factorial_iter(num)}\")"
      ],
      "metadata": {
        "colab": {
          "base_uri": "https://localhost:8080/"
        },
        "id": "uArEpq8ScbUA",
        "outputId": "55b24356-b23c-4490-ed7d-e7752997478d"
      },
      "execution_count": 10,
      "outputs": [
        {
          "output_type": "stream",
          "name": "stdout",
          "text": [
            "Factorial of 6 using iterative method is 720\n"
          ]
        }
      ]
    },
    {
      "cell_type": "code",
      "source": [
        "# Question 11: Write a Python program to check if a number is Armstrong number\n",
        "def is_armstrong(n):\n",
        "    num_str = str(n)\n",
        "    num_digits = len(num_str)\n",
        "    total = sum(int(digit) ** num_digits for digit in num_str)\n",
        "    return n == total\n",
        "\n",
        "number = 371\n",
        "print(f\"{number} is Armstrong number: {is_armstrong(number)}\")"
      ],
      "metadata": {
        "colab": {
          "base_uri": "https://localhost:8080/"
        },
        "id": "N2UguY4WcbXg",
        "outputId": "d601c6af-4f6f-4757-a7fa-fdb6b4f58e07"
      },
      "execution_count": 11,
      "outputs": [
        {
          "output_type": "stream",
          "name": "stdout",
          "text": [
            "371 is Armstrong number: True\n"
          ]
        }
      ]
    },
    {
      "cell_type": "code",
      "source": [
        "# Question 12: Write a Python program to find the GCD of two numbers\n",
        "import math\n",
        "\n",
        "a, b = 48, 180\n",
        "gcd_value = math.gcd(a, b)\n",
        "print(f\"GCD of {a} and {b} is {gcd_value}\")"
      ],
      "metadata": {
        "colab": {
          "base_uri": "https://localhost:8080/"
        },
        "id": "FGwqo54sdrw6",
        "outputId": "00f6d93b-cfdc-410a-d078-13df9c9a9c06"
      },
      "execution_count": 12,
      "outputs": [
        {
          "output_type": "stream",
          "name": "stdout",
          "text": [
            "GCD of 48 and 180 is 12\n"
          ]
        }
      ]
    },
    {
      "cell_type": "code",
      "source": [
        "# Question 13: Write a Python program to check if a number is even or odd\n",
        "num = 42\n",
        "if num % 2 == 0:\n",
        "    print(f\"{num} is even\")\n",
        "else:\n",
        "    print(f\"{num} is odd\")"
      ],
      "metadata": {
        "colab": {
          "base_uri": "https://localhost:8080/"
        },
        "id": "eX6eiWj7dr0_",
        "outputId": "be06631d-645e-4ce6-caa8-5e1e9edbad46"
      },
      "execution_count": 13,
      "outputs": [
        {
          "output_type": "stream",
          "name": "stdout",
          "text": [
            "42 is even\n"
          ]
        }
      ]
    },
    {
      "cell_type": "code",
      "source": [
        "# Question 14: Write a Python program to find the LCM of two numbers\n",
        "import math\n",
        "\n",
        "a, b = 12, 15\n",
        "lcm_value = abs(a * b) // math.gcd(a, b)\n",
        "print(f\"LCM of {a} and {b} is {lcm_value}\")"
      ],
      "metadata": {
        "colab": {
          "base_uri": "https://localhost:8080/"
        },
        "id": "lGXF2teudr5V",
        "outputId": "34830b54-1a85-4d5b-fd6b-8d4bae6f6106"
      },
      "execution_count": 14,
      "outputs": [
        {
          "output_type": "stream",
          "name": "stdout",
          "text": [
            "LCM of 12 and 15 is 60\n"
          ]
        }
      ]
    },
    {
      "cell_type": "code",
      "source": [
        "# Question 15: Write a Python program to check if a year is leap year\n",
        "def is_leap_year(year):\n",
        "    return year % 4 == 0 and (year % 100 != 0 or year % 400 == 0)\n",
        "\n",
        "year = 2024\n",
        "print(f\"{year} is leap year: {is_leap_year(year)}\")"
      ],
      "metadata": {
        "colab": {
          "base_uri": "https://localhost:8080/"
        },
        "id": "5ZF9OUbCdzDN",
        "outputId": "a016d416-9a66-44aa-f492-0e49b770e290"
      },
      "execution_count": 15,
      "outputs": [
        {
          "output_type": "stream",
          "name": "stdout",
          "text": [
            "2024 is leap year: True\n"
          ]
        }
      ]
    },
    {
      "cell_type": "code",
      "source": [
        "# Question 16: Write a Python program to find the roots of a quadratic equation\n",
        "import cmath\n",
        "\n",
        "a, b, c = 1, -3, 2\n",
        "d = cmath.sqrt(b ** 2 - 4 * a * c)\n",
        "root1 = (-b + d) / (2 * a)\n",
        "root2 = (-b - d) / (2 * a)\n",
        "print(\"Roots of the quadratic equation:\", root1, root2)"
      ],
      "metadata": {
        "colab": {
          "base_uri": "https://localhost:8080/"
        },
        "id": "RVnRK8tQdzGr",
        "outputId": "c5f6a2ef-9b4b-47e7-b13c-51565525ec68"
      },
      "execution_count": 16,
      "outputs": [
        {
          "output_type": "stream",
          "name": "stdout",
          "text": [
            "Roots of the quadratic equation: (2+0j) (1+0j)\n"
          ]
        }
      ]
    },
    {
      "cell_type": "code",
      "source": [
        "# Question 17: Write a Python program to generate a list of prime numbers up to n\n",
        "def generate_primes(n):\n",
        "    primes = []\n",
        "    for num in range(2, n + 1):\n",
        "        if is_prime(num):\n",
        "            primes.append(num)\n",
        "    return primes\n",
        "\n",
        "n = 50\n",
        "print(\"Prime numbers up to\", n, \":\", generate_primes(n))"
      ],
      "metadata": {
        "colab": {
          "base_uri": "https://localhost:8080/"
        },
        "id": "b7dh3A1VdzKh",
        "outputId": "56ef37cd-f94c-43df-d8c7-e022f8f04ba2"
      },
      "execution_count": 17,
      "outputs": [
        {
          "output_type": "stream",
          "name": "stdout",
          "text": [
            "Prime numbers up to 50 : [2, 3, 5, 7, 11, 13, 17, 19, 23, 29, 31, 37, 41, 43, 47]\n"
          ]
        }
      ]
    },
    {
      "cell_type": "code",
      "source": [
        "# Question 18: Write a Python program to convert Celsius to Fahrenheit\n",
        "def celsius_to_fahrenheit(celsius):\n",
        "    return (celsius * 9/5) + 32\n",
        "\n",
        "temp_c = 25\n",
        "print(f\"{temp_c}°C is {celsius_to_fahrenheit(temp_c)}°F\")"
      ],
      "metadata": {
        "colab": {
          "base_uri": "https://localhost:8080/"
        },
        "id": "SY8Q2Cd0dzOh",
        "outputId": "c8e1d6fa-be99-4401-ef90-a03fbf7b30a6"
      },
      "execution_count": 18,
      "outputs": [
        {
          "output_type": "stream",
          "name": "stdout",
          "text": [
            "25°C is 77.0°F\n"
          ]
        }
      ]
    },
    {
      "cell_type": "code",
      "source": [
        "# Question 19: Write a Python program to convert Fahrenheit to Celsius\n",
        "def fahrenheit_to_celsius(fahrenheit):\n",
        "    return (fahrenheit - 32) * 5/9\n",
        "\n",
        "temp_f = 77\n",
        "print(f\"{temp_f}°F is {fahrenheit_to_celsius(temp_f)}°C\")"
      ],
      "metadata": {
        "colab": {
          "base_uri": "https://localhost:8080/"
        },
        "id": "2tY8UVRUdzSR",
        "outputId": "d08d4679-a07d-4845-f071-c31dd4e46d4f"
      },
      "execution_count": 20,
      "outputs": [
        {
          "output_type": "stream",
          "name": "stdout",
          "text": [
            "77°F is 25.0°C\n"
          ]
        }
      ]
    },
    {
      "cell_type": "code",
      "source": [
        "# Question 20: Write a Python program to calculate the area of a circle\n",
        "import math\n",
        "\n",
        "radius = 7\n",
        "area = math.pi * radius ** 2\n",
        "print(f\"Area of circle with radius {radius}: {area}\")"
      ],
      "metadata": {
        "colab": {
          "base_uri": "https://localhost:8080/"
        },
        "id": "NyC_REw3dzmq",
        "outputId": "0286ae13-5afb-40a1-cb7b-3c89b8930942"
      },
      "execution_count": 21,
      "outputs": [
        {
          "output_type": "stream",
          "name": "stdout",
          "text": [
            "Area of circle with radius 7: 153.93804002589985\n"
          ]
        }
      ]
    },
    {
      "cell_type": "code",
      "source": [
        "# Question 21: Write a Python program to calculate the area of a rectangle\n",
        "length = 10\n",
        "breadth = 5\n",
        "area_rectangle = length * breadth\n",
        "print(f\"Area of rectangle: {area_rectangle}\")"
      ],
      "metadata": {
        "colab": {
          "base_uri": "https://localhost:8080/"
        },
        "id": "peWX6tdwcbbf",
        "outputId": "d8826c9d-44c8-433d-9d61-ffed36a4670f"
      },
      "execution_count": 22,
      "outputs": [
        {
          "output_type": "stream",
          "name": "stdout",
          "text": [
            "Area of rectangle: 50\n"
          ]
        }
      ]
    },
    {
      "cell_type": "code",
      "source": [
        "# Question 22: Write a Python program to calculate the area of a triangle\n",
        "base = 8\n",
        "height = 5\n",
        "area_triangle = 0.5 * base * height\n",
        "print(f\"Area of triangle: {area_triangle}\")"
      ],
      "metadata": {
        "colab": {
          "base_uri": "https://localhost:8080/"
        },
        "id": "UJbxtvTaeGX_",
        "outputId": "9af403e1-73f0-4e8a-c8ed-d4387c9a198a"
      },
      "execution_count": 23,
      "outputs": [
        {
          "output_type": "stream",
          "name": "stdout",
          "text": [
            "Area of triangle: 20.0\n"
          ]
        }
      ]
    },
    {
      "cell_type": "code",
      "source": [
        "# Question 23: Write a Python program to calculate compound interest\n",
        "principal = 1000\n",
        "rate = 5 / 100\n",
        "time = 3\n",
        "compound_interest = principal * (1 + rate) ** time - principal\n",
        "print(f\"Compound interest: {compound_interest}\")"
      ],
      "metadata": {
        "colab": {
          "base_uri": "https://localhost:8080/"
        },
        "id": "415A46WneGbs",
        "outputId": "b09fb2e7-0751-427c-9953-9fa58152dc25"
      },
      "execution_count": 24,
      "outputs": [
        {
          "output_type": "stream",
          "name": "stdout",
          "text": [
            "Compound interest: 157.62500000000023\n"
          ]
        }
      ]
    },
    {
      "cell_type": "code",
      "source": [
        "# Question 24: Write a Python program to check if a number is a perfect square\n",
        "import math\n",
        "\n",
        "num = 49\n",
        "sqrt_num = math.isqrt(num)\n",
        "is_perfect_square = sqrt_num * sqrt_num == num\n",
        "print(f\"{num} is a perfect square: {is_perfect_square}\")"
      ],
      "metadata": {
        "colab": {
          "base_uri": "https://localhost:8080/"
        },
        "id": "Uo2q942qeGgI",
        "outputId": "baa1d52f-960c-4418-a3b3-fc08e9f09f54"
      },
      "execution_count": 25,
      "outputs": [
        {
          "output_type": "stream",
          "name": "stdout",
          "text": [
            "49 is a perfect square: True\n"
          ]
        }
      ]
    },
    {
      "cell_type": "markdown",
      "source": [
        "***PRACTICAL QUESTIONS 2***"
      ],
      "metadata": {
        "id": "LmEujb0teh9G"
      }
    },
    {
      "cell_type": "code",
      "source": [
        "# Question 1: Write a Python program to perform a Z-test for comparing a sample mean to a known population mean and interpret the results\n",
        "import numpy as np\n",
        "from scipy import stats\n",
        "\n",
        "# Known population parameters\n",
        "population_mean = 100\n",
        "population_std = 15\n",
        "sample_size = 30\n",
        "\n",
        "# Simulate sample data\n",
        "np.random.seed(0)\n",
        "sample_data = np.random.normal(loc=population_mean, scale=population_std, size=sample_size)\n",
        "\n",
        "# Calculate sample mean\n",
        "sample_mean = np.mean(sample_data)\n",
        "\n",
        "# Perform Z-test\n",
        "z_score = (sample_mean - population_mean) / (population_std / np.sqrt(sample_size))\n",
        "p_value = 2 * (1 - stats.norm.cdf(abs(z_score)))\n",
        "\n",
        "# Interpret the result\n",
        "print(f\"Sample Mean: {sample_mean}\")\n",
        "print(f\"Z-score: {z_score}\")\n",
        "print(f\"P-value: {p_value}\")\n",
        "\n",
        "if p_value < 0.05:\n",
        "    print(\"Reject the null hypothesis: There is a significant difference between sample mean and population mean.\")\n",
        "else:\n",
        "    print(\"Fail to reject the null hypothesis: No significant difference detected.\")"
      ],
      "metadata": {
        "colab": {
          "base_uri": "https://localhost:8080/"
        },
        "id": "a1vDOMh8eGkP",
        "outputId": "6263ae5d-dbd2-45d5-9d53-f9a224f6369b"
      },
      "execution_count": 26,
      "outputs": [
        {
          "output_type": "stream",
          "name": "stdout",
          "text": [
            "Sample Mean: 106.64284670894763\n",
            "Z-score: 2.425624659026381\n",
            "P-value: 0.015282066343743406\n",
            "Reject the null hypothesis: There is a significant difference between sample mean and population mean.\n"
          ]
        }
      ]
    },
    {
      "cell_type": "code",
      "source": [
        "# Question 2: Simulate random data to perform hypothesis testing and calculate the corresponding P-value using Python\n",
        "import numpy as np\n",
        "from scipy import stats\n",
        "\n",
        "np.random.seed(1)\n",
        "sample1 = np.random.normal(50, 10, 50)\n",
        "sample2 = np.random.normal(55, 10, 50)\n",
        "\n",
        "# Perform two-sample t-test\n",
        "t_stat, p_value = stats.ttest_ind(sample1, sample2)\n",
        "\n",
        "print(f\"T-statistic: {t_stat}\")\n",
        "print(f\"P-value: {p_value}\")"
      ],
      "metadata": {
        "colab": {
          "base_uri": "https://localhost:8080/"
        },
        "id": "CsnULs4zezaQ",
        "outputId": "14ffdb9f-67a3-41c6-fa3a-5469f05c0690"
      },
      "execution_count": 27,
      "outputs": [
        {
          "output_type": "stream",
          "name": "stdout",
          "text": [
            "T-statistic: -3.7767905078225064\n",
            "P-value: 0.00027258969735696986\n"
          ]
        }
      ]
    },
    {
      "cell_type": "code",
      "source": [
        "# Question 3: Implement a one-sample Z-test using Python to compare the sample mean with the population mean\n",
        "import numpy as np\n",
        "from scipy import stats\n",
        "\n",
        "population_mean = 75\n",
        "population_std = 8\n",
        "sample_size = 40\n",
        "\n",
        "np.random.seed(2)\n",
        "sample = np.random.normal(loc=78, scale=population_std, size=sample_size)\n",
        "sample_mean = np.mean(sample)\n",
        "\n",
        "z_score = (sample_mean - population_mean) / (population_std / np.sqrt(sample_size))\n",
        "p_value = 2 * (1 - stats.norm.cdf(abs(z_score)))\n",
        "\n",
        "print(f\"Sample Mean: {sample_mean}\")\n",
        "print(f\"Z-score: {z_score}\")\n",
        "print(f\"P-value: {p_value}\")\n",
        "\n",
        "if p_value < 0.05:\n",
        "    print(\"Reject the null hypothesis.\")\n",
        "else:\n",
        "    print(\"Fail to reject the null hypothesis.\")"
      ],
      "metadata": {
        "colab": {
          "base_uri": "https://localhost:8080/"
        },
        "id": "8tT12HzKezen",
        "outputId": "b4e613ad-5a42-45a9-f45a-7172cf128d15"
      },
      "execution_count": 28,
      "outputs": [
        {
          "output_type": "stream",
          "name": "stdout",
          "text": [
            "Sample Mean: 76.32846336968856\n",
            "Z-score: 1.0502425090795378\n",
            "P-value: 0.2936066299344957\n",
            "Fail to reject the null hypothesis.\n"
          ]
        }
      ]
    },
    {
      "cell_type": "code",
      "source": [
        "# Question 4: Perform a two-tailed Z-test using Python and visualize the decision region on a plot\n",
        "import numpy as np\n",
        "import matplotlib.pyplot as plt\n",
        "from scipy.stats import norm\n",
        "\n",
        "population_mean = 100\n",
        "population_std = 20\n",
        "sample_size = 30\n",
        "np.random.seed(3)\n",
        "sample = np.random.normal(loc=105, scale=population_std, size=sample_size)\n",
        "sample_mean = np.mean(sample)\n",
        "\n",
        "z_score = (sample_mean - population_mean) / (population_std / np.sqrt(sample_size))\n",
        "p_value = 2 * (1 - norm.cdf(abs(z_score)))\n",
        "\n",
        "# Visualization\n",
        "x = np.linspace(population_mean - 4*population_std, population_mean + 4*population_std, 1000)\n",
        "critical_value = norm.ppf(1 - 0.025)\n",
        "\n",
        "plt.plot(x, norm.pdf(x, population_mean, population_std/np.sqrt(sample_size)))\n",
        "plt.fill_between(x, 0, norm.pdf(x, population_mean, population_std/np.sqrt(sample_size)),\n",
        "                 where=(x <= -critical_value) | (x >= critical_value), color='red', alpha=0.5)\n",
        "plt.axvline(sample_mean, color='blue', linestyle='--', label='Sample Mean')\n",
        "plt.title('Two-tailed Z-test Decision Region')\n",
        "plt.xlabel('Sample Mean')\n",
        "plt.ylabel('Density')\n",
        "plt.legend()\n",
        "plt.show()\n",
        "\n",
        "print(f\"Sample Mean: {sample_mean}\")\n",
        "print(f\"Z-score: {z_score}\")\n",
        "print(f\"P-value: {p_value}\")"
      ],
      "metadata": {
        "colab": {
          "base_uri": "https://localhost:8080/",
          "height": 526
        },
        "id": "IktS9JZ-ezjg",
        "outputId": "50cb2349-19b6-441e-97bd-aac169126c4f"
      },
      "execution_count": 29,
      "outputs": [
        {
          "output_type": "display_data",
          "data": {
            "text/plain": [
              "<Figure size 640x480 with 1 Axes>"
            ],
            "image/png": "[encoded data removed]"
          },
          "metadata": {}
        },
        {
          "output_type": "stream",
          "name": "stdout",
          "text": [
            "Sample Mean: 102.50195962462752\n",
            "Z-score: 0.6851898621878245\n",
            "P-value: 0.4932241202646259\n"
          ]
        }
      ]
    },
    {
      "cell_type": "code",
      "source": [
        "# Question 5: Create a Python function that calculates and visualizes Type 1 and Type 2 errors during hypothesis testing\n",
        "import numpy as np\n",
        "import matplotlib.pyplot as plt\n",
        "from scipy.stats import norm\n",
        "\n",
        "def plot_errors(alpha, effect_size, true_mean, population_std, sample_size):\n",
        "    x = np.linspace(true_mean - 4*population_std, true_mean + 4*population_std, 1000)\n",
        "    standard_error = population_std / np.sqrt(sample_size)\n",
        "    null_dist = norm(loc=0, scale=standard_error)\n",
        "    alt_dist = norm(loc=effect_size, scale=standard_error)\n",
        "\n",
        "    # Critical values\n",
        "    z_critical = null_dist.ppf(1 - alpha/2)\n",
        "\n",
        "    # Plot null distribution\n",
        "    plt.plot(x, null_dist.pdf(x - true_mean), label='Null Distribution')\n",
        "    # Plot alternative distribution\n",
        "    plt.plot(x, alt_dist.pdf(x - true_mean), label='Alternative Distribution')\n",
        "\n",
        "    # Shade Type I error (alpha)\n",
        "    plt.fill_between(x, 0, null_dist.pdf(x - true_mean), where=(x > z_critical) | (x < -z_critical), color='red', alpha=0.3, label='Type I Error (α)')\n",
        "\n",
        "    # Shade Type II error (β)\n",
        "    plt.fill_between(x, 0, alt_dist.pdf(x - true_mean), where=(x <= -z_critical) | (x >= z_critical), color='green', alpha=0.3, label='Type II Error (β)')\n",
        "\n",
        "    plt.axvline(-z_critical, color='black', linestyle='--')\n",
        "    plt.axvline(z_critical, color='black', linestyle='--')\n",
        "    plt.legend()\n",
        "    plt.xlabel('Test Statistic')\n",
        "    plt.ylabel('Density')\n",
        "    plt.title('Type I and Type II Errors Illustration')\n",
        "    plt.show()\n",
        "\n",
        "# Example usage:\n",
        "plot_errors(alpha=0.05, effect_size=2, true_mean=0, population_std=1, sample_size=30)"
      ],
      "metadata": {
        "colab": {
          "base_uri": "https://localhost:8080/",
          "height": 472
        },
        "id": "YO4pHJ-Nezoo",
        "outputId": "de198937-366a-4ec8-fed0-45573ad04a1a"
      },
      "execution_count": 30,
      "outputs": [
        {
          "output_type": "display_data",
          "data": {
            "text/plain": [
              "<Figure size 640x480 with 1 Axes>"
            ],
            "image/png": "[encoded data removed]"
          },
          "metadata": {}
        }
      ]
    },
    {
      "cell_type": "code",
      "source": [
        "# Question 6: Write a Python program to perform an independent T-test and interpret the results\n",
        "import numpy as np\n",
        "from scipy import stats\n",
        "\n",
        "np.random.seed(4)\n",
        "group1 = np.random.normal(50, 10, 40)\n",
        "group2 = np.random.normal(55, 10, 40)\n",
        "\n",
        "t_stat, p_value = stats.ttest_ind(group1, group2)\n",
        "\n",
        "print(f\"T-statistic: {t_stat}\")\n",
        "print(f\"P-value: {p_value}\")\n",
        "\n",
        "if p_value < 0.05:\n",
        "    print(\"Significant difference between groups.\")\n",
        "else:\n",
        "    print(\"No significant difference between groups.\")"
      ],
      "metadata": {
        "colab": {
          "base_uri": "https://localhost:8080/"
        },
        "id": "_IGIYxAleztA",
        "outputId": "bd2fa12e-956b-42fa-cb62-e7a5f54c65db"
      },
      "execution_count": 31,
      "outputs": [
        {
          "output_type": "stream",
          "name": "stdout",
          "text": [
            "T-statistic: -2.807371249970591\n",
            "P-value: 0.006306710917655332\n",
            "Significant difference between groups.\n"
          ]
        }
      ]
    },
    {
      "cell_type": "code",
      "source": [
        "# Question 7: Perform a paired sample T-test using Python and visualize the comparison results\n",
        "import numpy as np\n",
        "from scipy import stats\n",
        "import matplotlib.pyplot as plt\n",
        "\n",
        "np.random.seed(5)\n",
        "before = np.random.normal(100, 15, 30)\n",
        "after = before + np.random.normal(5, 5, 30)\n",
        "\n",
        "t_stat, p_value = stats.ttest_rel(before, after)\n",
        "\n",
        "# Visualization\n",
        "differences = after - before\n",
        "plt.hist(differences, bins=10)\n",
        "plt.title('Differences After Treatment')\n",
        "plt.xlabel('Difference')\n",
        "plt.ylabel('Frequency')\n",
        "plt.show()\n",
        "\n",
        "print(f\"Paired T-test statistic: {t_stat}\")\n",
        "print(f\"P-value: {p_value}\")\n",
        "\n",
        "if p_value < 0.05:\n",
        "    print(\"Significant difference detected.\")\n",
        "else:\n",
        "    print(\"No significant difference detected.\")"
      ],
      "metadata": {
        "colab": {
          "base_uri": "https://localhost:8080/",
          "height": 526
        },
        "id": "mw0qkBf3ezyA",
        "outputId": "be2fad93-ec18-4e1d-edcb-3ab0ba93cac0"
      },
      "execution_count": 32,
      "outputs": [
        {
          "output_type": "display_data",
          "data": {
            "text/plain": [
              "<Figure size 640x480 with 1 Axes>"
            ],
            "image/png": "[encoded data removed]"
          },
          "metadata": {}
        },
        {
          "output_type": "stream",
          "name": "stdout",
          "text": [
            "Paired T-test statistic: -8.9735175336196\n",
            "P-value: 7.257034006475272e-10\n",
            "Significant difference detected.\n"
          ]
        }
      ]
    },
    {
      "cell_type": "code",
      "source": [
        "# Question 8: Simulate data and perform both Z-test and T-test, then compare the results using Python\n",
        "import numpy as np\n",
        "from scipy import stats\n",
        "\n",
        "np.random.seed(6)\n",
        "population_std = 12\n",
        "population_mean = 100\n",
        "sample_size = 50\n",
        "\n",
        "# Generate sample data\n",
        "sample = np.random.normal(loc=102, scale=population_std, size=sample_size)\n",
        "sample_mean = np.mean(sample)\n",
        "\n",
        "# Z-test\n",
        "z_score = (sample_mean - population_mean) / (population_std / np.sqrt(sample_size))\n",
        "p_value_z = 2 * (1 - stats.norm.cdf(abs(z_score)))\n",
        "\n",
        "# T-test\n",
        "t_stat, p_value_t = stats.ttest_1samp(sample, population_mean)\n",
        "\n",
        "print(f\"Z-test P-value: {p_value_z}\")\n",
        "print(f\"T-test P-value: {p_value_t}\")\n",
        "\n",
        "# Comparison\n",
        "if p_value_z < 0.05:\n",
        "    print(\"Z-test indicates significance.\")\n",
        "else:\n",
        "    print(\"Z-test does not indicate significance.\")\n",
        "\n",
        "if p_value_t < 0.05:\n",
        "    print(\"T-test indicates significance.\")\n",
        "else:\n",
        "    print(\"T-test does not indicate significance.\")"
      ],
      "metadata": {
        "colab": {
          "base_uri": "https://localhost:8080/"
        },
        "id": "9pMgofloez3y",
        "outputId": "6710b4a3-701f-4179-9456-1f23fe389139"
      },
      "execution_count": 33,
      "outputs": [
        {
          "output_type": "stream",
          "name": "stdout",
          "text": [
            "Z-test P-value: 0.13284465419649294\n",
            "T-test P-value: 0.16067885554141476\n",
            "Z-test does not indicate significance.\n",
            "T-test does not indicate significance.\n"
          ]
        }
      ]
    },
    {
      "cell_type": "code",
      "source": [
        "# Question 9: Write a Python function to calculate the confidence interval for a sample mean and explain its significance\n",
        "import numpy as np\n",
        "from scipy import stats\n",
        "\n",
        "def confidence_interval(data, confidence=0.95):\n",
        "    n = len(data)\n",
        "    mean = np.mean(data)\n",
        "    sem = stats.sem(data)\n",
        "    margin = sem * stats.t.ppf((1 + confidence) / 2., n-1)\n",
        "    return mean - margin, mean + margin\n",
        "\n",
        "# Example data\n",
        "np.random.seed(7)\n",
        "sample_data = np.random.normal(50, 10, 30)\n",
        "ci_lower, ci_upper = confidence_interval(sample_data)\n",
        "\n",
        "print(f\"Confidence interval: ({ci_lower}, {ci_upper})\")\n",
        "print(\"The confidence interval provides a range within which we expect the true population mean to fall with a specified level of confidence.\")"
      ],
      "metadata": {
        "colab": {
          "base_uri": "https://localhost:8080/"
        },
        "id": "rIWCXw8iez9k",
        "outputId": "b2a8959a-0902-461c-951c-8ec2225575f0"
      },
      "execution_count": 34,
      "outputs": [
        {
          "output_type": "stream",
          "name": "stdout",
          "text": [
            "Confidence interval: (45.49560978886937, 53.04323224038197)\n",
            "The confidence interval provides a range within which we expect the true population mean to fall with a specified level of confidence.\n"
          ]
        }
      ]
    },
    {
      "cell_type": "code",
      "source": [
        "# Question 10: Write a Python program to calculate the margin of error for a given confidence level using sample data\n",
        "import numpy as np\n",
        "from scipy import stats\n",
        "\n",
        "sample_data = np.random.normal(100, 15, 50)\n",
        "confidence_level = 0.95\n",
        "sample_mean = np.mean(sample_data)\n",
        "sample_std = np.std(sample_data, ddof=1)\n",
        "n = len(sample_data)\n",
        "z_score = stats.norm.ppf((1 + confidence_level) / 2)\n",
        "\n",
        "margin_of_error = z_score * (sample_std / np.sqrt(n))\n",
        "print(f\"Margin of error at {confidence_level*100}% confidence: {margin_of_error}\")"
      ],
      "metadata": {
        "colab": {
          "base_uri": "https://localhost:8080/"
        },
        "id": "uZG1tsrMe0DX",
        "outputId": "b90df11c-d350-42ab-a839-124f0ab77f4d"
      },
      "execution_count": 1,
      "outputs": [
        {
          "output_type": "stream",
          "name": "stdout",
          "text": [
            "Margin of error at 95.0% confidence: 4.532204820245386\n"
          ]
        }
      ]
    },
    {
      "cell_type": "code",
      "source": [
        "# Question 11 Implement a Bayesian inference method using Bayes' Theorem in Python and explain the process\n",
        "prior_disease = 0.01\n",
        "sensitivity = 0.99\n",
        "specificity = 0.95\n",
        "prob_positive_given_disease = sensitivity\n",
        "prob_positive_given_no_disease = 1 - specificity\n",
        "prob_positive = (prob_positive_given_disease * prior_disease) + (prob_positive_given_no_disease * (1 - prior_disease))\n",
        "posterior_disease = (prob_positive_given_disease * prior_disease) / prob_positive\n",
        "print(f\"Probability of having the disease given a positive test: {posterior_disease*100:.2f}%\")"
      ],
      "metadata": {
        "colab": {
          "base_uri": "https://localhost:8080/"
        },
        "id": "Rru5USBAe0Hm",
        "outputId": "cd57f33d-f36b-4ded-aa4b-1ef84d9e76a3"
      },
      "execution_count": 3,
      "outputs": [
        {
          "output_type": "stream",
          "name": "stdout",
          "text": [
            "Probability of having the disease given a positive test: 16.67%\n"
          ]
        }
      ]
    },
    {
      "cell_type": "code",
      "source": [
        "# Question 12 Perform a Chi-square test for independence between two categorical variables in Python\n",
        "import numpy as np\n",
        "from scipy.stats import chi2_contingency\n",
        "contingency_table = np.array([[20, 15],\n",
        "                              [30, 35]])\n",
        "chi2, p, dof, expected = chi2_contingency(contingency_table)\n",
        "print(f\"Chi-square statistic: {chi2}\")\n",
        "print(f\"P-value: {p}\")\n",
        "print(\"Expected frequencies:\\n\", expected)"
      ],
      "metadata": {
        "colab": {
          "base_uri": "https://localhost:8080/"
        },
        "id": "-zn8JXkme0Lg",
        "outputId": "559af347-fdb7-4355-c7c0-eb62135cb0f9"
      },
      "execution_count": 4,
      "outputs": [
        {
          "output_type": "stream",
          "name": "stdout",
          "text": [
            "Chi-square statistic: 0.7032967032967032\n",
            "P-value: 0.4016781664697727\n",
            "Expected frequencies:\n",
            " [[17.5 17.5]\n",
            " [32.5 32.5]]\n"
          ]
        }
      ]
    },
    {
      "cell_type": "code",
      "source": [
        "# Question 13 Write a Python program to calculate the expected frequencies for a Chi-square test based on observed data\n",
        "import numpy as np\n",
        "from scipy.stats import chi2_contingency\n",
        "observed = np.array([[10, 20, 30],\n",
        "                     [20, 15, 25]])\n",
        "chi2, p, dof, expected = chi2_contingency(observed)\n",
        "print(\"Observed frequencies:\\n\", observed)\n",
        "print(\"Expected frequencies:\\n\", expected)"
      ],
      "metadata": {
        "colab": {
          "base_uri": "https://localhost:8080/"
        },
        "id": "GE6zrQOEUi-c",
        "outputId": "ffd37843-e131-4c38-ee47-c45f1d8870aa"
      },
      "execution_count": 6,
      "outputs": [
        {
          "output_type": "stream",
          "name": "stdout",
          "text": [
            "Observed frequencies:\n",
            " [[10 20 30]\n",
            " [20 15 25]]\n",
            "Expected frequencies:\n",
            " [[15.  17.5 27.5]\n",
            " [15.  17.5 27.5]]\n"
          ]
        }
      ]
    },
    {
      "cell_type": "code",
      "source": [
        "# Question 14  Perform a goodness-of-fit test using Python to compare the observed data to an expected distribution.\n",
        "\n",
        "import numpy as np\n",
        "from scipy.stats import chisquare\n",
        "observed_counts = np.array([50, 30, 20])\n",
        "expected_proportions = np.array([0.5, 0.3, 0.2])\n",
        "total = observed_counts.sum()\n",
        "expected_counts = expected_proportions * total\n",
        "chi2_stat, p_value = chisquare(f_obs=observed_counts, f_exp=expected_counts)\n",
        "print(f\"Chi-square statistic: {chi2_stat}\")\n",
        "print(f\"P-value: {p_value}\")"
      ],
      "metadata": {
        "colab": {
          "base_uri": "https://localhost:8080/"
        },
        "id": "tLfypmQSUjCx",
        "outputId": "c975e625-3843-4a45-ae0c-ed29b4dca61e"
      },
      "execution_count": 7,
      "outputs": [
        {
          "output_type": "stream",
          "name": "stdout",
          "text": [
            "Chi-square statistic: 0.0\n",
            "P-value: 1.0\n"
          ]
        }
      ]
    }
  ]
}